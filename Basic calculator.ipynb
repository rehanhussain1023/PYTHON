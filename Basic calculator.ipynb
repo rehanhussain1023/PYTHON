{
 "cells": [
  {
   "cell_type": "markdown",
   "id": "a3f883fa-b9bf-4cd3-8513-0cc09cae4d70",
   "metadata": {},
   "source": [
    "Calculator for Two Numbers"
   ]
  },
  {
   "cell_type": "code",
   "execution_count": 1,
   "id": "ae4167ee-442a-45fb-b6b5-216213311ca6",
   "metadata": {},
   "outputs": [
    {
     "name": "stdout",
     "output_type": "stream",
     "text": [
      "Press c button for end\n"
     ]
    },
    {
     "name": "stdin",
     "output_type": "stream",
     "text": [
      "Enter operatorion : \n",
      "( + , - , / , * , % ,// ) +\n",
      "Enter any num:  2\n",
      "Enter any num:  3\n"
     ]
    },
    {
     "name": "stdout",
     "output_type": "stream",
     "text": [
      "5\n"
     ]
    },
    {
     "name": "stdin",
     "output_type": "stream",
     "text": [
      "Enter operatorion : \n",
      "( + , - , / , * , % ,// ) -\n",
      "Enter any num:  5\n",
      "Enter any num:  6\n"
     ]
    },
    {
     "name": "stdout",
     "output_type": "stream",
     "text": [
      "-1\n"
     ]
    },
    {
     "name": "stdin",
     "output_type": "stream",
     "text": [
      "Enter operatorion : \n",
      "( + , - , / , * , % ,// ) /\n",
      "Enter any num:  3\n",
      "Enter any num:  5\n"
     ]
    },
    {
     "name": "stdout",
     "output_type": "stream",
     "text": [
      "0.6\n"
     ]
    },
    {
     "name": "stdin",
     "output_type": "stream",
     "text": [
      "Enter operatorion : \n",
      "( + , - , / , * , % ,// ) *\n",
      "Enter any num:  3\n",
      "Enter any num:  4\n"
     ]
    },
    {
     "name": "stdout",
     "output_type": "stream",
     "text": [
      "12\n"
     ]
    },
    {
     "name": "stdin",
     "output_type": "stream",
     "text": [
      "Enter operatorion : \n",
      "( + , - , / , * , % ,// ) %\n",
      "Enter any num:  5\n",
      "Enter any num:  3\n"
     ]
    },
    {
     "name": "stdout",
     "output_type": "stream",
     "text": [
      "2\n"
     ]
    },
    {
     "name": "stdin",
     "output_type": "stream",
     "text": [
      "Enter operatorion : \n",
      "( + , - , / , * , % ,// ) //\n",
      "Enter any num:  6\n",
      "Enter any num:  4\n"
     ]
    },
    {
     "name": "stdout",
     "output_type": "stream",
     "text": [
      "1\n"
     ]
    },
    {
     "name": "stdin",
     "output_type": "stream",
     "text": [
      "Enter operatorion : \n",
      "( + , - , / , * , % ,// ) d\n",
      "Enter any num:  3\n",
      "Enter any num:  3\n"
     ]
    },
    {
     "name": "stdout",
     "output_type": "stream",
     "text": [
      "Syntax Error\n"
     ]
    },
    {
     "name": "stdin",
     "output_type": "stream",
     "text": [
      "Enter operatorion : \n",
      "( + , - , / , * , % ,// ) c\n"
     ]
    }
   ],
   "source": [
    "print(\"Press c button for end\")\n",
    "while True:\n",
    "    operator = str(input(\"Enter operatorion : \\n( + , - , / , * , % ,// )\"))\n",
    "    if (operator == \"c\"):\n",
    "        break\n",
    "    a = int(input(\"Enter any num: \"))\n",
    "    b = int(input(\"Enter any num: \"))\n",
    "    if operator == '+':\n",
    "        print (a + b)\n",
    "    elif operator == '-':\n",
    "        print (a-b)\n",
    "    elif operator == '/':\n",
    "         print(a/b)\n",
    "    elif operator == '*':\n",
    "        print(a*b)\n",
    "    elif operator == '%':\n",
    "        print(a%b)\n",
    "    elif operator == '//':\n",
    "         print(a//b)\n",
    "    else:\n",
    "        print(\"Syntax Error\")"
   ]
  },
  {
   "cell_type": "code",
   "execution_count": null,
   "id": "e2843e15-e7d8-46b6-98b4-6bde5778eebe",
   "metadata": {},
   "outputs": [],
   "source": []
  },
  {
   "cell_type": "code",
   "execution_count": null,
   "id": "c31c3ac8-57bf-4517-9b3b-1cffb8580554",
   "metadata": {},
   "outputs": [],
   "source": []
  }
 ],
 "metadata": {
  "kernelspec": {
   "display_name": "Python 3 (ipykernel)",
   "language": "python",
   "name": "python3"
  },
  "language_info": {
   "codemirror_mode": {
    "name": "ipython",
    "version": 3
   },
   "file_extension": ".py",
   "mimetype": "text/x-python",
   "name": "python",
   "nbconvert_exporter": "python",
   "pygments_lexer": "ipython3",
   "version": "3.11.7"
  }
 },
 "nbformat": 4,
 "nbformat_minor": 5
}
