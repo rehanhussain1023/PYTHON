{
 "cells": [
  {
   "cell_type": "markdown",
   "id": "f1c69102-7594-4c9f-8fae-cbc80d380310",
   "metadata": {},
   "source": [
    "Question No 1\n"
   ]
  },
  {
   "cell_type": "code",
   "execution_count": null,
   "id": "3f0a2048-ad5c-4fc0-aa02-465e2206d8ff",
   "metadata": {},
   "outputs": [],
   "source": [
    "# converting celsius into fahrenheit\n",
    "Celsius = float(input(\"Enter The tempreture in Celsius : \"))\n",
    "convertC= Celsius * 1.8 - 32\n",
    "print(\"Celsius to fahrenheit : \",convertC)\n",
    "\n",
    "# converting fahrenheit into celsius\n",
    "Fahrenheit = float(input(\"Enter The tempreture in fahrenheit : \"))\n",
    "convertF = (Fahrenheit + 32) /1.8\n",
    "print(\"fahrenheit to celsius : \",convertF)\n"
   ]
  },
  {
   "cell_type": "markdown",
   "id": "8c0d3529-837b-4496-8274-ab090f55e823",
   "metadata": {},
   "source": [
    "Question No 2\n"
   ]
  },
  {
   "cell_type": "code",
   "execution_count": null,
   "id": "48368437-ebfc-48e6-863f-a317f25eb07a",
   "metadata": {},
   "outputs": [],
   "source": [
    "print(\"Login  :) \")\n",
    "name = str(input(\"Enter name : \"))\n",
    "reg = str(input(\"Enter Registration ID : \"))\n",
    "pas = int(input(\"enter pin : \"))\n",
    "Admin = name ==\"Rehan\"  and pas == 456\n",
    "print(Admin)\n",
    "\n",
    "\n",
    "\n"
   ]
  },
  {
   "cell_type": "markdown",
   "id": "6b92d9ac-9341-4330-841a-459346b662fc",
   "metadata": {},
   "source": [
    "Question No 3\n"
   ]
  },
  {
   "cell_type": "code",
   "execution_count": null,
   "id": "6f410a22-9e17-4ecd-82e6-0282ffa05551",
   "metadata": {},
   "outputs": [],
   "source": [
    "name = str(input(\"Enter name : \"))\n",
    "reg = str(input(\"Enter Registration ID : \"))\n",
    "age = int(input(\"Enter age : \"))\n",
    "Flag = reg == 65217\n",
    "print(\"The Assigment is completed by the student : \",Flag)\n",
    "\n"
   ]
  },
  {
   "cell_type": "markdown",
   "id": "b5fa7adc-ce11-44c1-9313-a631f37889c0",
   "metadata": {},
   "source": [
    "Question No 4\n"
   ]
  },
  {
   "cell_type": "code",
   "execution_count": null,
   "id": "06cc0455-79e0-46fd-a89f-6cea2a0a3b49",
   "metadata": {},
   "outputs": [],
   "source": [
    "#book reading time\n",
    "\n",
    "num_pages = int(input(\"Number of pages in book : \"))\n",
    "reading_time = num_pages * 2\n",
    "print(\"Number pages\", num_pages)\n",
    "print(\"Reading time : \",reading_time,\"Minutes\")"
   ]
  },
  {
   "cell_type": "markdown",
   "id": "01a9c959-4fb0-4a84-9f31-31087f356469",
   "metadata": {},
   "source": [
    "Question No 5\n"
   ]
  },
  {
   "cell_type": "code",
   "execution_count": null,
   "id": "ffc5b012-e228-4633-b213-f2a2916ba700",
   "metadata": {},
   "outputs": [],
   "source": [
    "\n",
    "\n",
    "orignal_price = int(input(\"Enter the price of item : \"))\n",
    "discount = orignal_price/10\n",
    "final_price = orignal_price-discount\n",
    "print(\"Orignal Price : \",orignal_price)\n",
    "print(\"After Discount Price : \",final_price)\n",
    "print(\"Discount You get : \", discount)\n",
    "\n"
   ]
  },
  {
   "cell_type": "markdown",
   "id": "125309aa-9bf2-4e09-87e3-057e9a2fbade",
   "metadata": {},
   "source": [
    "Question No 6"
   ]
  },
  {
   "cell_type": "code",
   "execution_count": null,
   "id": "54621ecf-4f2d-4388-83fd-7d1974cba66e",
   "metadata": {},
   "outputs": [],
   "source": [
    "# Area of rectangle\n",
    "lenght = int(input(\"Enter lenght  : \"))\n",
    "width = int(input(\"Enter width : \"))\n",
    "area = lenght*width\n",
    "print(\"Area OF Rectangle is : \",area)"
   ]
  },
  {
   "cell_type": "code",
   "execution_count": null,
   "id": "cd055b5c-c475-4f71-bb26-0e1394ffb034",
   "metadata": {},
   "outputs": [],
   "source": []
  }
 ],
 "metadata": {
  "kernelspec": {
   "display_name": "Python 3 (ipykernel)",
   "language": "python",
   "name": "python3"
  },
  "language_info": {
   "codemirror_mode": {
    "name": "ipython",
    "version": 3
   },
   "file_extension": ".py",
   "mimetype": "text/x-python",
   "name": "python",
   "nbconvert_exporter": "python",
   "pygments_lexer": "ipython3",
   "version": "3.11.7"
  }
 },
 "nbformat": 4,
 "nbformat_minor": 5
}
